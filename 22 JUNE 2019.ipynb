{
 "cells": [
  {
   "cell_type": "markdown",
   "metadata": {},
   "source": [
    "# Date:22 JUNE 2019\n",
    "\n",
    "# Day Objectives\n",
    "- File Handling\n",
    "    - Basic File Data Processing\n",
    "        - Accessing and modifying a file\n",
    "    - Character Count\n",
    "    - Line Count\n",
    "    - File Size\n",
    "    - Word Count\n",
    "    - Unique Word Count"
   ]
  },
  {
   "cell_type": "code",
   "execution_count": 18,
   "metadata": {},
   "outputs": [
    {
     "name": "stdout",
     "output_type": "stream",
     "text": [
      "<class '_io.TextIOWrapper'>\n"
     ]
    }
   ],
   "source": [
    "# Read a file - file should exist(Read mode)\n",
    "# Write to a file - existing (append mode) or New file(Write mode)\n",
    "def readfile(filepath):\n",
    "    with open(filepath,'r') as f:\n",
    "        print(type(f))\n",
    "    return\n",
    "\n",
    "filepath='datafiles/data.txt'\n",
    "readfile(filepath)"
   ]
  },
  {
   "cell_type": "code",
   "execution_count": 23,
   "metadata": {},
   "outputs": [
    {
     "data": {
      "text/plain": [
       "'line 1\\nline 2\\nline 3'"
      ]
     },
     "execution_count": 23,
     "metadata": {},
     "output_type": "execute_result"
    }
   ],
   "source": [
    "def readfile(filepath):\n",
    "    with open(filepath,'r') as f:\n",
    "        filedata=f.read()\n",
    "    return filedata\n",
    "filepath='datafiles/data.txt'\n",
    "readfile(filepath)"
   ]
  },
  {
   "cell_type": "code",
   "execution_count": 24,
   "metadata": {},
   "outputs": [
    {
     "name": "stdout",
     "output_type": "stream",
     "text": [
      "line 1\n",
      "line 2\n",
      "line 3\n"
     ]
    }
   ],
   "source": [
    "def readfile(filepath):\n",
    "    with open(filepath,'r') as f:\n",
    "        filedata=f.read()\n",
    "    return filedata\n",
    "filepath='datafiles/data.txt'\n",
    "print(readfile(filepath))"
   ]
  },
  {
   "cell_type": "code",
   "execution_count": 36,
   "metadata": {},
   "outputs": [
    {
     "name": "stdout",
     "output_type": "stream",
     "text": [
      "11\n",
      "sdfghjkfghj\n"
     ]
    }
   ],
   "source": [
    "f=open(filepath,'w')\n",
    "print(f.write(\"sdfghjkfghj\"))\n",
    "f=open(filepath,'r')\n",
    "print(f.read())"
   ]
  },
  {
   "cell_type": "code",
   "execution_count": 86,
   "metadata": {},
   "outputs": [
    {
     "name": "stdout",
     "output_type": "stream",
     "text": [
      "15\n"
     ]
    }
   ],
   "source": [
    "def charcount(filepath):\n",
    "    with open(filepath,'a') as f:\n",
    "        filedata=(f.write(\"asdfghjkxdfghjk\"))\n",
    "    return filedata\n",
    "filepath='datafiles/data.txt'\n",
    "print(charcount(filepath))"
   ]
  },
  {
   "cell_type": "code",
   "execution_count": 118,
   "metadata": {},
   "outputs": [
    {
     "name": "stdout",
     "output_type": "stream",
     "text": [
      "4\n"
     ]
    }
   ],
   "source": [
    "def characterCount(filePath):\n",
    "    with open(filePath,'r') as f:\n",
    "        count=1\n",
    "        for line in f.read():\n",
    "            if line.isspace():\n",
    "                count=count+1\n",
    "        return count\n",
    "filePath='DataFiles/data.txt'\n",
    "print(characterCount(filePath))"
   ]
  },
  {
   "cell_type": "code",
   "execution_count": 94,
   "metadata": {},
   "outputs": [
    {
     "name": "stdout",
     "output_type": "stream",
     "text": [
      "1\n"
     ]
    }
   ],
   "source": [
    "def lineCount(filePath):\n",
    "    with open(filePath,'r') as f:\n",
    "        linecount=1\n",
    "        for line in f.read():\n",
    "            if line=='\\n':\n",
    "                linecount+=1\n",
    "        return linecount\n",
    "filePath='DataFiles/data.txt'\n",
    "print(lineCount(filePath))\n"
   ]
  },
  {
   "cell_type": "code",
   "execution_count": 72,
   "metadata": {},
   "outputs": [
    {
     "data": {
      "text/plain": [
       "8"
      ]
     },
     "execution_count": 72,
     "metadata": {},
     "output_type": "execute_result"
    }
   ],
   "source": [
    "def wordCount(filePath):\n",
    "    with open(filePath,'r') as f:\n",
    "        filedata=f.read()\n",
    "        f1=len(filedata.split())\n",
    "        return f1\n",
    "filePath='DataFiles/data.txt'\n",
    "wordCount(filePath)"
   ]
  },
  {
   "cell_type": "code",
   "execution_count": null,
   "metadata": {},
   "outputs": [],
   "source": []
  },
  {
   "cell_type": "code",
   "execution_count": 68,
   "metadata": {},
   "outputs": [
    {
     "data": {
      "text/plain": [
       "43"
      ]
     },
     "execution_count": 68,
     "metadata": {},
     "output_type": "execute_result"
    }
   ],
   "source": [
    "def wordCount(filePath):\n",
    "    with open(filePath,'r') as f:\n",
    "        count=0\n",
    "        for line in f.read():\n",
    "            if line.split():\n",
    "                count=count+1\n",
    "        return count\n",
    "filePath='DataFiles/data.txt'                               ###################\n",
    "wordCount(filePath)"
   ]
  },
  {
   "cell_type": "code",
   "execution_count": 108,
   "metadata": {},
   "outputs": [
    {
     "name": "stdout",
     "output_type": "stream",
     "text": [
      "1\n"
     ]
    }
   ],
   "source": [
    "def wordCount(filePath):\n",
    "    with open(filePath,'r') as f:\n",
    "        count=0\n",
    "        for line in f:\n",
    "            for i in line.split():\n",
    "                count=count+1\n",
    "        return count\n",
    "filePath='DataFiles/data.txt'\n",
    "print(wordCount(filePath))"
   ]
  },
  {
   "cell_type": "code",
   "execution_count": 81,
   "metadata": {},
   "outputs": [
    {
     "name": "stdout",
     "output_type": "stream",
     "text": [
      "{'sasdfghjjjm': 1, 'asdfghj': 1, 'dfghjk': 1, 'sdfghjk': 1, 'jdfghjk': 1, '12345': 1, 'wuif5671gh456h2n467': 1, '~!@#$%^&*(': 1}\n"
     ]
    }
   ],
   "source": [
    "def uniqueword(filepath):\n",
    "    count={}\n",
    "    with open(filepath,'r') as f:\n",
    "        filedata=f.read()\n",
    "        f1=filedata.split()\n",
    "        for i in f1:\n",
    "            if i in count:\n",
    "                count[i]=1\n",
    "            else:\n",
    "                count[i]=1\n",
    "    print(count)\n",
    "filepath='datafiles/data.txt'\n",
    "uniqueword(filepath)\n",
    "        "
   ]
  },
  {
   "cell_type": "code",
   "execution_count": 84,
   "metadata": {},
   "outputs": [
    {
     "name": "stdout",
     "output_type": "stream",
     "text": [
      "32\n"
     ]
    }
   ],
   "source": [
    "import os\n",
    "filePath=\"DataFiles/mycontacts.txt\"\n",
    "f1=os.stat(filePath).st_size\n",
    "print(f1)"
   ]
  },
  {
   "cell_type": "code",
   "execution_count": 107,
   "metadata": {},
   "outputs": [
    {
     "ename": "FileNotFoundError",
     "evalue": "[Errno 2] No such file or directory: 'filename'",
     "output_type": "error",
     "traceback": [
      "\u001b[1;31m---------------------------------------------------------------------------\u001b[0m",
      "\u001b[1;31mFileNotFoundError\u001b[0m                         Traceback (most recent call last)",
      "\u001b[1;32m<ipython-input-107-c748d1f1c5c6>\u001b[0m in \u001b[0;36m<module>\u001b[1;34m\u001b[0m\n\u001b[0;32m      1\u001b[0m \u001b[0mfilename\u001b[0m\u001b[1;33m=\u001b[0m\u001b[1;34m'datafiles/sample.txt'\u001b[0m\u001b[1;33m\u001b[0m\u001b[1;33m\u001b[0m\u001b[0m\n\u001b[1;32m----> 2\u001b[1;33m \u001b[1;32mwith\u001b[0m \u001b[0mopen\u001b[0m\u001b[1;33m(\u001b[0m\u001b[1;34m\"filename\"\u001b[0m\u001b[1;33m,\u001b[0m\u001b[1;34m\"r+\"\u001b[0m\u001b[1;33m)\u001b[0m \u001b[1;32mas\u001b[0m \u001b[0mfh\u001b[0m\u001b[1;33m:\u001b[0m\u001b[1;33m\u001b[0m\u001b[1;33m\u001b[0m\u001b[0m\n\u001b[0m\u001b[0;32m      3\u001b[0m     \u001b[0mlineno\u001b[0m\u001b[1;33m=\u001b[0m\u001b[1;36m1\u001b[0m\u001b[1;33m\u001b[0m\u001b[1;33m\u001b[0m\u001b[0m\n\u001b[0;32m      4\u001b[0m     \u001b[0mlines\u001b[0m\u001b[1;33m=\u001b[0m\u001b[0mfh\u001b[0m\u001b[1;33m.\u001b[0m\u001b[0mreadlines\u001b[0m\u001b[1;33m(\u001b[0m\u001b[1;33m)\u001b[0m\u001b[1;33m\u001b[0m\u001b[1;33m\u001b[0m\u001b[0m\n\u001b[0;32m      5\u001b[0m \u001b[0mfw\u001b[0m\u001b[1;33m=\u001b[0m\u001b[0mopen\u001b[0m\u001b[1;33m(\u001b[0m\u001b[1;34m\"filename\"\u001b[0m\u001b[1;33m,\u001b[0m\u001b[1;34m\"w\"\u001b[0m\u001b[1;33m)\u001b[0m\u001b[1;33m\u001b[0m\u001b[1;33m\u001b[0m\u001b[0m\n",
      "\u001b[1;31mFileNotFoundError\u001b[0m: [Errno 2] No such file or directory: 'filename'"
     ]
    }
   ],
   "source": [
    "filename='datafiles/sample.txt'\n",
    "with open(\"filename\",\"r+\") as fh:\n",
    "    lineno=1\n",
    "    lines=fh.readlines()\n",
    "fw=open(\"filename\",\"w\")\n",
    "for line in lines:\n",
    "    print(lineno,line,end=\"\",sep='.')\n",
    "    lineno+=1\n",
    "fw.close()"
   ]
  },
  {
   "cell_type": "code",
   "execution_count": 140,
   "metadata": {},
   "outputs": [
    {
     "name": "stdout",
     "output_type": "stream",
     "text": [
      "4\n"
     ]
    }
   ],
   "source": [
    "def wordcount(filepath):\n",
    "    with open(filepath,'r') as f:\n",
    "        count=0\n",
    "        for line in f:\n",
    "            for i in line.split():\n",
    "                count=count+1\n",
    "        return count\n",
    "filepath='datafiles/data.txt'\n",
    "print(wordcount(filepath))"
   ]
  },
  {
   "cell_type": "code",
   "execution_count": 160,
   "metadata": {},
   "outputs": [
    {
     "name": "stdout",
     "output_type": "stream",
     "text": [
      "4\n"
     ]
    }
   ],
   "source": [
    "def wordcount(filepath):\n",
    "    with open(filepath,'r') as f:\n",
    "        count=0\n",
    "        for line in f:\n",
    "            for i in line.split():\n",
    "                count=count+1\n",
    "        return count\n",
    "filepath='datafiles/data.txt'\n",
    "print(wordcount(filepath))"
   ]
  },
  {
   "cell_type": "code",
   "execution_count": 159,
   "metadata": {},
   "outputs": [
    {
     "name": "stdout",
     "output_type": "stream",
     "text": [
      "{'bhanu': 1, 'bhabahb': 1, 'bahbha': 1, 'erghjk': 1}\n",
      "None\n"
     ]
    }
   ],
   "source": [
    "def uniqueword(filepath):\n",
    "    count={}\n",
    "    with open(filepath,'r') as f:\n",
    "        filedata=f.read()\n",
    "        f1=filedata.split()\n",
    "        for i in f1:\n",
    "            if i in count:\n",
    "                count[i]=1\n",
    "            else:\n",
    "                count[i]=1\n",
    "    print(count)\n",
    "filepath='datafiles/data.txt'\n",
    "print(uniqueword(filepath))"
   ]
  },
  {
   "cell_type": "code",
   "execution_count": 168,
   "metadata": {},
   "outputs": [
    {
     "ename": "SyntaxError",
     "evalue": "invalid syntax (<ipython-input-168-f7e1e5a4b969>, line 1)",
     "output_type": "error",
     "traceback": [
      "\u001b[1;36m  File \u001b[1;32m\"<ipython-input-168-f7e1e5a4b969>\"\u001b[1;36m, line \u001b[1;32m1\u001b[0m\n\u001b[1;33m    1 5 5 3 4 2\u001b[0m\n\u001b[1;37m      ^\u001b[0m\n\u001b[1;31mSyntaxError\u001b[0m\u001b[1;31m:\u001b[0m invalid syntax\n"
     ]
    }
   ],
   "source": [
    "1 5 5 3 4 2\n",
    "2\n",
    "1\n",
    "1\n",
    "4\n",
    "2\n"
   ]
  },
  {
   "cell_type": "code",
   "execution_count": 170,
   "metadata": {},
   "outputs": [
    {
     "data": {
      "text/plain": [
       "{1: 3, 2: 2, 0: 1}"
      ]
     },
     "execution_count": 170,
     "metadata": {},
     "output_type": "execute_result"
    }
   ],
   "source": [
    "l=[1,1,1,2,2,0]\n",
    "d={}\n",
    "for i in l:\n",
    "    if i in d:\n",
    "        d[i]+=1\n",
    "    else:\n",
    "        d[i]=1\n",
    "d\n",
    "        "
   ]
  },
  {
   "cell_type": "code",
   "execution_count": null,
   "metadata": {},
   "outputs": [],
   "source": []
  }
 ],
 "metadata": {
  "kernelspec": {
   "display_name": "Python 3",
   "language": "python",
   "name": "python3"
  },
  "language_info": {
   "codemirror_mode": {
    "name": "ipython",
    "version": 3
   },
   "file_extension": ".py",
   "mimetype": "text/x-python",
   "name": "python",
   "nbconvert_exporter": "python",
   "pygments_lexer": "ipython3",
   "version": "3.7.3"
  }
 },
 "nbformat": 4,
 "nbformat_minor": 2
}
