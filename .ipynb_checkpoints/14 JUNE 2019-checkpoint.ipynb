{
 "cells": [
  {
   "cell_type": "markdown",
   "metadata": {},
   "source": [
    "#Problem Solving and Programming in python - day 4\n",
    "\n",
    "data - 14 june 2019\n",
    "\n",
    "Day objectives :\n",
    "1.Python Data Strctures\n",
    "        (a) Lists\n",
    "        (b)Tuples\n",
    "        (c)Dictionaries\n",
    "2.Basic Problem Set On  Data Strctures\n",
    "3.Advanced Problem set\n",
    "4.Packages and modules in python"
   ]
  },
  {
   "cell_type": "markdown",
   "metadata": {},
   "source": [
    "# Python Data Strctures\n",
    "\n",
    "\n",
    "# Lists"
   ]
  },
  {
   "cell_type": "code",
   "execution_count": 23,
   "metadata": {},
   "outputs": [
    {
     "data": {
      "text/plain": [
       "[23, 122, 234, 245]"
      ]
     },
     "execution_count": 23,
     "metadata": {},
     "output_type": "execute_result"
    }
   ],
   "source": [
    "li = [122,23,245]\n",
    "li                           # Access the entire list\n",
    "li[1]                         # Access an element with index in a list\n",
    "li[1:]                         # Acess all elements from second\n",
    "li[2:]\n",
    "li[0:]\n",
    "li[3:]\n",
    "li[::-1]                             # Acess all elemnts reverse print\n",
    "li=li[::-1]\n",
    "li\n",
    "\n",
    "li[::2]\n",
    "li[1::2]\n",
    "# Lists can be accessed,manipulated in two directions\n",
    "            # Direct Referencing            - index\n",
    "            # Indirect Referencing          -through functions\n",
    "li.append(345)           # adding an element to end\n",
    "li.insert(1,234)       # Adding an element at a particular\n",
    "li.sort()    # sort elements in assending order\n",
    "li\n",
    "li.pop()            # remove the last element in a list\n",
    "li"
   ]
  },
  {
   "cell_type": "code",
   "execution_count": 40,
   "metadata": {},
   "outputs": [
    {
     "data": {
      "text/plain": [
       "232.5"
      ]
     },
     "execution_count": 40,
     "metadata": {},
     "output_type": "execute_result"
    }
   ],
   "source": [
    "li = [122,23,245]\n",
    "li.pop()\n",
    "li\n",
    "li.pop(0)\n",
    "li\n",
    "li2=[123,132,342]        \n",
    "li.extend(li2)                 # merge list 2 into list 1\n",
    "sum(li)                    # sum of all numbers in a list\n",
    "max(li)                  # Maximum element in a list\n",
    "len(li)                   # number of elements in a list\n",
    "li\n",
    "sum(li)/len(li)         # average of list elements\n",
    "sum(li[::2])/len(li[::2])                         # Average of all alternative elements\n",
    "sum(li[1::2])/len(li[1::2])"
   ]
  },
  {
   "cell_type": "code",
   "execution_count": 60,
   "metadata": {},
   "outputs": [
    {
     "data": {
      "text/plain": [
       "132"
      ]
     },
     "execution_count": 60,
     "metadata": {},
     "output_type": "execute_result"
    }
   ],
   "source": [
    "#function to identify the second largest element in the list\n",
    "    # sort the data and select the second last element\n",
    "    # sort the data in reverse order,and select the second element\n",
    "    #remove the max element and then get the max\n",
    "    \n",
    "def secondlargest(li):\n",
    "    li.sort()\n",
    "    return li[-2]\n",
    "secondlargest(li)"
   ]
  },
  {
   "cell_type": "code",
   "execution_count": 74,
   "metadata": {},
   "outputs": [
    {
     "data": {
      "text/plain": [
       "6"
      ]
     },
     "execution_count": 74,
     "metadata": {},
     "output_type": "execute_result"
    }
   ],
   "source": [
    "#function that returns the nth largest\n",
    "li = [1,2,3,4,5,6,7,8,9,10]\n",
    "    \n",
    "def nthlargest(li,n):\n",
    "    li.sort()\n",
    "    return li[-n]\n",
    "secondlargest(li)\n",
    "nthlargest(li,-5)"
   ]
  },
  {
   "cell_type": "code",
   "execution_count": 75,
   "metadata": {},
   "outputs": [
    {
     "data": {
      "text/plain": [
       "5"
      ]
     },
     "execution_count": 75,
     "metadata": {},
     "output_type": "execute_result"
    }
   ],
   "source": [
    "#function that returns the nth largest -1\n",
    "li = [1,2,3,4,5,6,7,8,9,10]\n",
    "    \n",
    "def nthlargest(li,n):\n",
    "    li.sort()\n",
    "    return li[-n-1]\n",
    "secondlargest(li)\n",
    "nthlargest(li,-5)"
   ]
  },
  {
   "cell_type": "code",
   "execution_count": 76,
   "metadata": {},
   "outputs": [
    {
     "ename": "NameError",
     "evalue": "name 'key' is not defined",
     "output_type": "error",
     "traceback": [
      "\u001b[1;31m---------------------------------------------------------------------------\u001b[0m",
      "\u001b[1;31mNameError\u001b[0m                                 Traceback (most recent call last)",
      "\u001b[1;32m<ipython-input-76-dfa9f3f32c45>\u001b[0m in \u001b[0;36m<module>\u001b[1;34m\u001b[0m\n\u001b[0;32m      5\u001b[0m     \u001b[0mli\u001b[0m\u001b[1;33m.\u001b[0m\u001b[0msort\u001b[0m\u001b[1;33m(\u001b[0m\u001b[1;33m)\u001b[0m\u001b[1;33m\u001b[0m\u001b[1;33m\u001b[0m\u001b[0m\n\u001b[0;32m      6\u001b[0m     \u001b[1;32mreturn\u001b[0m \u001b[0mli\u001b[0m\u001b[1;33m\u001b[0m\u001b[1;33m\u001b[0m\u001b[0m\n\u001b[1;32m----> 7\u001b[1;33m \u001b[0mlinearsearch\u001b[0m\u001b[1;33m(\u001b[0m\u001b[0mli\u001b[0m\u001b[1;33m,\u001b[0m\u001b[0mkey\u001b[0m\u001b[1;33m)\u001b[0m\u001b[1;33m\u001b[0m\u001b[1;33m\u001b[0m\u001b[0m\n\u001b[0m",
      "\u001b[1;31mNameError\u001b[0m: name 'key' is not defined"
     ]
    }
   ],
   "source": [
    "# function to search for data in a list\n",
    "# search for the key in the list and Return the index of the key. Return -1 is key not found\n",
    "li=[11,12,13,14,15]\n",
    "def linearsearch(li,key):\n",
    "    li.sort()\n",
    "    return li\n",
    "linearsearch(li,key)"
   ]
  },
  {
   "cell_type": "code",
   "execution_count": 94,
   "metadata": {},
   "outputs": [
    {
     "data": {
      "text/plain": [
       "3"
      ]
     },
     "execution_count": 94,
     "metadata": {},
     "output_type": "execute_result"
    }
   ],
   "source": [
    "# function to search for data in a list\n",
    "# search for the key in the list and Return the index of the key. Return -1 is key not found\n",
    "li=[11,12,13,14,15]\n",
    "def linearsearch(li,key):\n",
    "    for index in range(0,len(li)):\n",
    "        if li[index] == key:\n",
    "            return index\n",
    "        return -1\n",
    "linearsearch(li,15)\n",
    "\n",
    "\n",
    "def l2(li,key):\n",
    "    for element in li:\n",
    "        if element == key:\n",
    "            return li.index(element)\n",
    "        return -1\n",
    "l2(li,2)\n",
    "\n",
    "def l3(li,key):\n",
    "    if key in li:\n",
    "        return li.index(key)\n",
    "    \n",
    "    return -1\n",
    "l3(li,14)"
   ]
  },
  {
   "cell_type": "code",
   "execution_count": 110,
   "metadata": {},
   "outputs": [
    {
     "data": {
      "text/plain": [
       "1"
      ]
     },
     "execution_count": 110,
     "metadata": {},
     "output_type": "execute_result"
    }
   ],
   "source": [
    "#function to count the occurances of a character in a given string\n",
    "#\"python programming\", m -> 2\n",
    "li = \"bhanu\"\n",
    "def charstring(li):\n",
    "    return li.count('h')\n",
    "charstring(li)\n",
    "\n",
    "\n",
    "\n"
   ]
  },
  {
   "cell_type": "code",
   "execution_count": 112,
   "metadata": {},
   "outputs": [
    {
     "data": {
      "text/plain": [
       "1"
      ]
     },
     "execution_count": 112,
     "metadata": {},
     "output_type": "execute_result"
    }
   ],
   "source": [
    "li = \"bhanu\"\n",
    "\n",
    "def occurances(li,h):\n",
    "    count = 0\n",
    "    for a in li:\n",
    "        if a == h:\n",
    "            count += 1\n",
    "    return count\n",
    "occurances(li,\"h\")"
   ]
  },
  {
   "cell_type": "code",
   "execution_count": 115,
   "metadata": {
    "scrolled": true
   },
   "outputs": [
    {
     "data": {
      "text/plain": [
       "1"
      ]
     },
     "execution_count": 115,
     "metadata": {},
     "output_type": "execute_result"
    }
   ],
   "source": [
    "li = \"bhanu\"\n",
    "\n",
    "def occurances1(li,h):\n",
    "    return li.count(h)\n",
    "\n",
    "occurances(li,'u')"
   ]
  },
  {
   "cell_type": "code",
   "execution_count": 125,
   "metadata": {},
   "outputs": [
    {
     "data": {
      "text/plain": [
       "2"
      ]
     },
     "execution_count": 125,
     "metadata": {},
     "output_type": "execute_result"
    }
   ],
   "source": [
    "# function to find the number of occurances of su........     \n",
    "li = \"abcabcddcbaaaa\"\n",
    "def occu(li,a):\n",
    "    return li.count(a)\n",
    "occu(li,'aa')"
   ]
  },
  {
   "cell_type": "code",
   "execution_count": null,
   "metadata": {},
   "outputs": [],
   "source": [
    "# function to find the number of occurances of su........     with out using count\n",
    "\n"
   ]
  }
 ],
 "metadata": {
  "kernelspec": {
   "display_name": "Python 3",
   "language": "python",
   "name": "python3"
  },
  "language_info": {
   "codemirror_mode": {
    "name": "ipython",
    "version": 3
   },
   "file_extension": ".py",
   "mimetype": "text/x-python",
   "name": "python",
   "nbconvert_exporter": "python",
   "pygments_lexer": "ipython3",
   "version": "3.7.3"
  }
 },
 "nbformat": 4,
 "nbformat_minor": 2
}
