{
 "cells": [
  {
   "cell_type": "code",
   "execution_count": 1,
   "metadata": {},
   "outputs": [
    {
     "name": "stdout",
     "output_type": "stream",
     "text": [
      "100 102 104 106 108 110 112 114 116 118 120 122 124 126 128 130 132 134 136 138 140 142 144 146 148 150 "
     ]
    }
   ],
   "source": [
    "#alternate values\n",
    "\n",
    "def alternateValues(start,end):\n",
    "    for value in range(start,end+1,2):\n",
    "        print(value,end= \" \")\n",
    "    return\n",
    "\n",
    "alternateValues(100,150)\n",
    "                    "
   ]
  },
  {
   "cell_type": "code",
   "execution_count": 2,
   "metadata": {},
   "outputs": [
    {
     "name": "stdout",
     "output_type": "stream",
     "text": [
      "10\n",
      "8\n",
      "6\n",
      "4\n",
      "2\n"
     ]
    }
   ],
   "source": [
    "#reverse values print\n",
    "\n",
    "def reverseRange(start,end):\n",
    "    for value in range(end,start,-2):\n",
    "        print(value)\n",
    "    return\n",
    "reverseRange(1,10)"
   ]
  },
  {
   "cell_type": "code",
   "execution_count": 3,
   "metadata": {},
   "outputs": [
    {
     "name": "stdout",
     "output_type": "stream",
     "text": [
      "9\n",
      "7\n",
      "5\n",
      "3\n",
      "1\n"
     ]
    }
   ],
   "source": [
    "# odd numbers in reverse order\n",
    "\n",
    "def reverseRange(start,end):\n",
    "    for value in range(end,start-1,-1):\n",
    "        if value % 2 !=0:\n",
    "            print(value)\n",
    "    return\n",
    "reverseRange(1,10)"
   ]
  },
  {
   "cell_type": "code",
   "execution_count": 4,
   "metadata": {},
   "outputs": [
    {
     "data": {
      "text/plain": [
       "6"
      ]
     },
     "execution_count": 4,
     "metadata": {},
     "output_type": "execute_result"
    }
   ],
   "source": [
    "# calculate sum of numbers in a given range\n",
    "\n",
    "def sumrange(start,end):\n",
    "    sum = 0\n",
    "    for i in range(start,end+1):\n",
    "        sum = sum +i\n",
    "    return sum\n",
    "sumrange(1,3)"
   ]
  },
  {
   "cell_type": "code",
   "execution_count": 7,
   "metadata": {},
   "outputs": [
    {
     "data": {
      "text/plain": [
       "3.0"
      ]
     },
     "execution_count": 7,
     "metadata": {},
     "output_type": "execute_result"
    }
   ],
   "source": [
    "# Function to calculate the anerage of a given range\n",
    "def averagerange(start,end):\n",
    "    sum= 0\n",
    "    count = 0\n",
    "    for i in range(start,end+1):\n",
    "        sum = sum+i\n",
    "        count = count+1\n",
    "    return sum/count\n",
    "averagerange(1,5)"
   ]
  },
  {
   "cell_type": "code",
   "execution_count": 41,
   "metadata": {},
   "outputs": [
    {
     "data": {
      "text/plain": [
       "False"
      ]
     },
     "execution_count": 41,
     "metadata": {},
     "output_type": "execute_result"
    }
   ],
   "source": [
    "# function to generate all leap years in a given time period\n",
    "# 2000 - 2020 -> 2000 2004 2008\n",
    "\n",
    "# leapyesr yes r no\n",
    "\n",
    "def isleapyear(year):\n",
    "    if year % 400 == 0 or (year % 100 !=0 and year % 4 ==0):\n",
    "        return True\n",
    "    return False\n",
    "\n",
    "isleapyear(1975)"
   ]
  },
  {
   "cell_type": "code",
   "execution_count": 42,
   "metadata": {},
   "outputs": [
    {
     "name": "stdout",
     "output_type": "stream",
     "text": [
      "1972 1976 1980 "
     ]
    }
   ],
   "source": [
    "# to generate leap years\n",
    "\n",
    "def generateleapyears(startyear,endyear):\n",
    "    for year in range(startyear,endyear+1):\n",
    "        if isleapyear(year):\n",
    "            print(year,end = \" \")\n",
    "    return\n",
    "generateleapyears(1970,1980)"
   ]
  },
  {
   "cell_type": "code",
   "execution_count": 38,
   "metadata": {},
   "outputs": [
    {
     "data": {
      "text/plain": [
       "365"
      ]
     },
     "execution_count": 38,
     "metadata": {},
     "output_type": "execute_result"
    }
   ],
   "source": [
    "#calculate number of days in a given time period\n",
    "\n",
    "#for every year in the given time period, if the year is-------add 365 to sum if leap year\n",
    "def noofdays(startyear,endyear):\n",
    "    sum=0\n",
    "    for i in range(startyear,endyear+1):\n",
    "        if isleapyear(i):\n",
    "            sum=sum+366\n",
    "        else:\n",
    "            sum=sum+365\n",
    "    return sum\n",
    "noofdays(1001,1001)\n",
    "    "
   ]
  },
  {
   "cell_type": "code",
   "execution_count": 45,
   "metadata": {},
   "outputs": [
    {
     "data": {
      "text/plain": [
       "8760"
      ]
     },
     "execution_count": 45,
     "metadata": {},
     "output_type": "execute_result"
    }
   ],
   "source": [
    "# function to calculate number of hours for a given time period\n",
    "\n",
    "#def noofhours(start,end):\n",
    "    #sum=0\n",
    "    #for i in range(start,end+1):\n",
    "     #   if isleapyear(i):\n",
    "    #        sum=sum+366\n",
    "   #     else:\n",
    "  #          sum=sum+365\n",
    " #   return sum\n",
    "#if i % 24 == 0:\n",
    " #   sum = sum*24\n",
    "#noofdays(1975)\n",
    "\n",
    "def noofhours(start,end):\n",
    "    hours=24\n",
    "    for i in range(start,end+1):\n",
    "        if i % 24 == 0:\n",
    "            hours=24*365\n",
    "    return hours\n",
    "noofhours(1975,1999)\n",
    "    \n",
    "     "
   ]
  },
  {
   "cell_type": "code",
   "execution_count": 55,
   "metadata": {
    "scrolled": true
   },
   "outputs": [
    {
     "ename": "NameError",
     "evalue": "name 'isprime' is not defined",
     "output_type": "error",
     "traceback": [
      "\u001b[1;31m---------------------------------------------------------------------------\u001b[0m",
      "\u001b[1;31mNameError\u001b[0m                                 Traceback (most recent call last)",
      "\u001b[1;32m<ipython-input-55-1ef7ed3a2169>\u001b[0m in \u001b[0;36m<module>\u001b[1;34m\u001b[0m\n\u001b[0;32m     11\u001b[0m             \u001b[1;32mreturn\u001b[0m \u001b[0mavg\u001b[0m\u001b[1;33m\u001b[0m\u001b[1;33m\u001b[0m\u001b[0m\n\u001b[0;32m     12\u001b[0m     \u001b[1;32mreturn\u001b[0m \u001b[0mavg\u001b[0m\u001b[1;33m\u001b[0m\u001b[1;33m\u001b[0m\u001b[0m\n\u001b[1;32m---> 13\u001b[1;33m \u001b[0mavgofprime\u001b[0m\u001b[1;33m(\u001b[0m\u001b[1;36m26\u001b[0m\u001b[1;33m)\u001b[0m\u001b[1;33m\u001b[0m\u001b[1;33m\u001b[0m\u001b[0m\n\u001b[0m",
      "\u001b[1;32m<ipython-input-55-1ef7ed3a2169>\u001b[0m in \u001b[0;36mavgofprime\u001b[1;34m(n)\u001b[0m\n\u001b[0;32m      5\u001b[0m     \u001b[0mcount\u001b[0m \u001b[1;33m=\u001b[0m \u001b[1;36m0\u001b[0m\u001b[1;33m\u001b[0m\u001b[1;33m\u001b[0m\u001b[0m\n\u001b[0;32m      6\u001b[0m     \u001b[1;32mfor\u001b[0m \u001b[0mi\u001b[0m \u001b[1;32min\u001b[0m \u001b[0mrange\u001b[0m \u001b[1;33m(\u001b[0m\u001b[1;36m2\u001b[0m\u001b[1;33m,\u001b[0m\u001b[0mn\u001b[0m\u001b[1;33m)\u001b[0m\u001b[1;33m:\u001b[0m\u001b[1;33m\u001b[0m\u001b[1;33m\u001b[0m\u001b[0m\n\u001b[1;32m----> 7\u001b[1;33m         \u001b[1;32mif\u001b[0m \u001b[0misprime\u001b[0m\u001b[1;33m(\u001b[0m\u001b[0mi\u001b[0m\u001b[1;33m)\u001b[0m\u001b[1;33m:\u001b[0m\u001b[1;33m\u001b[0m\u001b[1;33m\u001b[0m\u001b[0m\n\u001b[0m\u001b[0;32m      8\u001b[0m             \u001b[0msum\u001b[0m\u001b[1;33m=\u001b[0m\u001b[0msum\u001b[0m\u001b[1;33m+\u001b[0m\u001b[0mi\u001b[0m\u001b[1;33m\u001b[0m\u001b[1;33m\u001b[0m\u001b[0m\n\u001b[0;32m      9\u001b[0m             \u001b[0mcount\u001b[0m\u001b[1;33m=\u001b[0m\u001b[0mcount\u001b[0m\u001b[1;33m+\u001b[0m\u001b[1;36m1\u001b[0m\u001b[1;33m\u001b[0m\u001b[1;33m\u001b[0m\u001b[0m\n",
      "\u001b[1;31mNameError\u001b[0m: name 'isprime' is not defined"
     ]
    }
   ],
   "source": [
    "# to calculate avg of first n prime numbers in python language\n",
    "\n",
    "def avgofprime(n):\n",
    "    sum = 0\n",
    "    count = 0\n",
    "    for i in range (2,n):\n",
    "        if isprime(i):\n",
    "            sum=sum+i\n",
    "            count=count+1\n",
    "            avg=sum/count\n",
    "            return avg\n",
    "    return avg\n",
    "avgofprime(26)"
   ]
  },
  {
   "cell_type": "code",
   "execution_count": 49,
   "metadata": {},
   "outputs": [],
   "source": [
    "def numberofdaysmonth(month):\n",
    "    if month <= 7 and month % 2!=0:\n",
    "        return 31\n",
    "    else:\n",
    "        return 30"
   ]
  },
  {
   "cell_type": "code",
   "execution_count": 70,
   "metadata": {},
   "outputs": [
    {
     "data": {
      "text/plain": [
       "31"
      ]
     },
     "execution_count": 70,
     "metadata": {},
     "output_type": "execute_result"
    }
   ],
   "source": [
    "def numberofdaysmonth(month,year):\n",
    "    if month ==  2:\n",
    "        if isleapyear(year):\n",
    "            return 29\n",
    "        return 28\n",
    "    elif(month <=7 and month % 2!=0) or (month>7 and month%2==0):\n",
    "        return 31\n",
    "    else:\n",
    "        return 30\n",
    "numberofdaysmonth(7,2016)\n",
    "\n"
   ]
  },
  {
   "cell_type": "code",
   "execution_count": 71,
   "metadata": {},
   "outputs": [
    {
     "data": {
      "text/plain": [
       "366"
      ]
     },
     "execution_count": 71,
     "metadata": {},
     "output_type": "execute_result"
    }
   ],
   "source": [
    "def daysinstartyear(startmonth,startyear):\n",
    "    days=0\n",
    "    for month in range(startmonth,13):\n",
    "        days += numberofdaysmonth(month,startyear)\n",
    "    return days\n",
    "daysinstartyear(1,2020)"
   ]
  },
  {
   "cell_type": "code",
   "execution_count": 74,
   "metadata": {},
   "outputs": [
    {
     "data": {
      "text/plain": [
       "60"
      ]
     },
     "execution_count": 74,
     "metadata": {},
     "output_type": "execute_result"
    }
   ],
   "source": [
    "def daysinendyear(endmonth,endyear):\n",
    "    days=0\n",
    "    for month in range(1,endmonth+1):\n",
    "        days +=numberofdaysmonth(month,endyear)\n",
    "    return days\n",
    "daysinendyear(2,2020)"
   ]
  }
 ],
 "metadata": {
  "kernelspec": {
   "display_name": "Python 3",
   "language": "python",
   "name": "python3"
  },
  "language_info": {
   "codemirror_mode": {
    "name": "ipython",
    "version": 3
   },
   "file_extension": ".py",
   "mimetype": "text/x-python",
   "name": "python",
   "nbconvert_exporter": "python",
   "pygments_lexer": "ipython3",
   "version": "3.7.3"
  }
 },
 "nbformat": 4,
 "nbformat_minor": 2
}
