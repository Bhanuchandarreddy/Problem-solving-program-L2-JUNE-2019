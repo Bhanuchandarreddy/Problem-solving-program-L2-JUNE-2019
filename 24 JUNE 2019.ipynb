{
 "cells": [
  {
   "cell_type": "markdown",
   "metadata": {},
   "source": [
    "# BINARY QUIRIES"
   ]
  },
  {
   "cell_type": "code",
   "execution_count": 2,
   "metadata": {},
   "outputs": [
    {
     "name": "stdout",
     "output_type": "stream",
     "text": [
      "1 2\n",
      "1 2 1 3 1\n",
      "2 3\n",
      "1 2 3 4 4\n",
      "EVEN\n"
     ]
    }
   ],
   "source": [
    "n,q=[int(x) for x in input().split()]\n",
    "l=[int(x) for x in input().split()]\n",
    "for k in range(q):\n",
    "    val=list(map(int,input().split()))\n",
    "    if(len(val)==2):\n",
    "        l[val[1]-1]=l[val[1]-1]^1\n",
    "    else:\n",
    "        if(l[val[2]-1]&1):\n",
    "            print(\"ODD\")\n",
    "        else:\n",
    "            print(\"EVEN\")"
   ]
  },
  {
   "cell_type": "code",
   "execution_count": null,
   "metadata": {},
   "outputs": [],
   "source": [
    "def freqdistributionofwords(filepath):\n",
    "    #dictionary to be used\n",
    "       #keys- unique words\n",
    "       #values- count of unique words\n",
    "    #two lists\n",
    "       #allwordslist -\n",
    "       #uniquewordslist -\n",
    "    "
   ]
  },
  {
   "cell_type": "code",
   "execution_count": 30,
   "metadata": {},
   "outputs": [],
   "source": [
    "# contacts applications\n",
    "     #add,search,list,modify,delete contacts\n",
    "# Find and replace application\n",
    "     # count the total number of occurances\n",
    "     # if word is existing\n",
    "     # replace all occurances of a word with another\n",
    "# marks analysis application\n",
    "     # generate marks file for n students\n",
    "      # input is a marks text file - each line contains marks\n",
    "     # generates a report with the following information\n",
    "         # class average\n",
    "         # % of students passed\n",
    "         # % of students failed\n",
    "         # % of students with distinction\n",
    "         "
   ]
  },
  {
   "cell_type": "code",
   "execution_count": 1,
   "metadata": {},
   "outputs": [],
   "source": [
    "# function to generate marks data for n students\n",
    "from random import randint\n",
    "def generatemarks(n,lb,ub):\n",
    "    with open('datafiles/marks.txt','w')as f:\n",
    "        for i in range(0,n):\n",
    "            r=randint(lb,ub)\n",
    "            f.write(str(r)+'\\n')\n",
    "    return\n",
    "generatemarks(3,0,100)"
   ]
  },
  {
   "cell_type": "code",
   "execution_count": null,
   "metadata": {},
   "outputs": [],
   "source": []
  }
 ],
 "metadata": {
  "kernelspec": {
   "display_name": "Python 3",
   "language": "python",
   "name": "python3"
  },
  "language_info": {
   "codemirror_mode": {
    "name": "ipython",
    "version": 3
   },
   "file_extension": ".py",
   "mimetype": "text/x-python",
   "name": "python",
   "nbconvert_exporter": "python",
   "pygments_lexer": "ipython3",
   "version": "3.7.3"
  }
 },
 "nbformat": 4,
 "nbformat_minor": 2
}
