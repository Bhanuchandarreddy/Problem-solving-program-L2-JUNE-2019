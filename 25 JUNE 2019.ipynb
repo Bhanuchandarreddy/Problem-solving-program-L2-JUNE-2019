{
 "cells": [
  {
   "cell_type": "code",
   "execution_count": 4,
   "metadata": {},
   "outputs": [
    {
     "name": "stdout",
     "output_type": "stream",
     "text": [
      "[12, 34]\n",
      "[13, 23, 23, 23, 123, 1234]\n"
     ]
    }
   ],
   "source": [
    "L=[12,34]\n",
    "print(L)\n",
    "H=[13,23,23,23,123,1234]\n",
    "print(H)"
   ]
  },
  {
   "cell_type": "code",
   "execution_count": 11,
   "metadata": {},
   "outputs": [
    {
     "name": "stdout",
     "output_type": "stream",
     "text": [
      "bhanu||hhh\n"
     ]
    }
   ],
   "source": [
    "print(\"bhanu\",end=\"||\")\n",
    "print(\"hhh\")"
   ]
  },
  {
   "cell_type": "code",
   "execution_count": 19,
   "metadata": {},
   "outputs": [
    {
     "data": {
      "text/plain": [
       "'2'"
      ]
     },
     "execution_count": 19,
     "metadata": {},
     "output_type": "execute_result"
    }
   ],
   "source": [
    "h=\"bhanu\"\n",
    "type(h)\n",
    "b=2.2345\n",
    "type(b)\n",
    "str(int(b))"
   ]
  },
  {
   "cell_type": "code",
   "execution_count": 24,
   "metadata": {},
   "outputs": [
    {
     "name": "stdout",
     "output_type": "stream",
     "text": [
      "<class 'int'>\n"
     ]
    },
    {
     "data": {
      "text/plain": [
       "1"
      ]
     },
     "execution_count": 24,
     "metadata": {},
     "output_type": "execute_result"
    }
   ],
   "source": [
    "h=234%234\n",
    "b=h**2345\n",
    "print(type(h))\n",
    "len(str(b))"
   ]
  },
  {
   "cell_type": "code",
   "execution_count": 30,
   "metadata": {},
   "outputs": [
    {
     "name": "stdout",
     "output_type": "stream",
     "text": [
      "0 1 1 1 1 1 1 0 0 0 "
     ]
    }
   ],
   "source": [
    "#s=123abc456def\n",
    "# 0 1 1 1 1 1 1 0 0 0\n",
    "#s=c\n",
    "#0 0 0 0 0 0 0 0 0 0\n",
    "#s=1234567890\n",
    "#1 1 1 1 1 1 1 1 1 1\n",
    "\n",
    "def uniquedata(allnumbers):\n",
    "    unique=[]\n",
    "    for n in allnumbers:\n",
    "        if n not in unique:\n",
    "            unique.append(n)\n",
    "    return unique\n",
    "def digitfrequency1(s):\n",
    "    allnumbers=[]\n",
    "    for i in s:\n",
    "        if i.isdigit():\n",
    "            allnumbers.append(i)\n",
    "    unique=uniquedata(allnumbers)\n",
    "    for i in range(0,10):\n",
    "        if str(i) not in unique:\n",
    "            print(0,end=' ')\n",
    "        else:\n",
    "            count = allnumbers.count(str(i))\n",
    "            print(count,end=' ')\n",
    "digitfrequency1('123abc456def')"
   ]
  },
  {
   "cell_type": "code",
   "execution_count": null,
   "metadata": {},
   "outputs": [],
   "source": [
    "digitfrequency2(s):\n",
    "    for i in range(0,10):\n",
    "        count=s.count(str(i))        "
   ]
  },
  {
   "cell_type": "code",
   "execution_count": 1,
   "metadata": {},
   "outputs": [
    {
     "data": {
      "text/plain": [
       "False"
      ]
     },
     "execution_count": 1,
     "metadata": {},
     "output_type": "execute_result"
    }
   ],
   "source": [
    "# function to check if two strings are anograms\n",
    "# abc cba ->  True\n",
    "\n",
    "\n",
    "def checkanagrams(s1,s2):\n",
    "    if(len(s1)) != len(s2):\n",
    "        return False\n",
    "    if sorted(s1)==sorted(s2):\n",
    "        return True\n",
    "    return False\n",
    "checkanagrams('abc','bcc')    "
   ]
  },
  {
   "cell_type": "code",
   "execution_count": null,
   "metadata": {},
   "outputs": [
    {
     "name": "stdout",
     "output_type": "stream",
     "text": [
      "55\n",
      "65\n",
      "64\n",
      "3\n",
      "1\n",
      "12\n",
      "12\n",
      "23\n",
      "123\n",
      "1\n",
      "\n",
      "2e\n",
      "\n",
      "2\n",
      "23\n"
     ]
    }
   ],
   "source": [
    "t=int(input())\n",
    "for i in range(0,t):\n",
    "    s1=sorted(input())\n",
    "    s2=sorted(input())\n",
    "    count=0\n",
    "    for i in s1:\n",
    "        if i not in s2:\n",
    "            count+=1\n",
    "    for i in s2:\n",
    "        if i not in s1:\n",
    "            count+=1"
   ]
  }
 ],
 "metadata": {
  "kernelspec": {
   "display_name": "Python 3",
   "language": "python",
   "name": "python3"
  },
  "language_info": {
   "codemirror_mode": {
    "name": "ipython",
    "version": 3
   },
   "file_extension": ".py",
   "mimetype": "text/x-python",
   "name": "python",
   "nbconvert_exporter": "python",
   "pygments_lexer": "ipython3",
   "version": "3.7.3"
  }
 },
 "nbformat": 4,
 "nbformat_minor": 2
}
