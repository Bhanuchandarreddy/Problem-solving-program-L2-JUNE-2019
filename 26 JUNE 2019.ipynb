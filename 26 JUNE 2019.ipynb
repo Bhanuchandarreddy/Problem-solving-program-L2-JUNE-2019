{
 "cells": [
  {
   "cell_type": "code",
   "execution_count": 8,
   "metadata": {},
   "outputs": [
    {
     "ename": "ImportError",
     "evalue": "cannot import name 'validator' from 'Packages' (unknown location)",
     "output_type": "error",
     "traceback": [
      "\u001b[1;31m---------------------------------------------------------------------------\u001b[0m",
      "\u001b[1;31mImportError\u001b[0m                               Traceback (most recent call last)",
      "\u001b[1;32m<ipython-input-8-a38bc3bb8dc0>\u001b[0m in \u001b[0;36m<module>\u001b[1;34m\u001b[0m\n\u001b[0;32m      1\u001b[0m \u001b[1;31m# add contacts practice\u001b[0m\u001b[1;33m\u001b[0m\u001b[1;33m\u001b[0m\u001b[1;33m\u001b[0m\u001b[0m\n\u001b[1;32m----> 2\u001b[1;33m \u001b[1;32mfrom\u001b[0m \u001b[0mPackages\u001b[0m \u001b[1;32mimport\u001b[0m \u001b[0mvalidator\u001b[0m\u001b[1;33m\u001b[0m\u001b[1;33m\u001b[0m\u001b[0m\n\u001b[0m\u001b[0;32m      3\u001b[0m \u001b[1;32mdef\u001b[0m \u001b[0maddcontact\u001b[0m\u001b[1;33m(\u001b[0m\u001b[0mname\u001b[0m\u001b[1;33m,\u001b[0m\u001b[0mphone\u001b[0m\u001b[1;33m,\u001b[0m\u001b[0memail\u001b[0m\u001b[1;33m)\u001b[0m\u001b[1;33m:\u001b[0m\u001b[1;33m\u001b[0m\u001b[1;33m\u001b[0m\u001b[0m\n\u001b[0;32m      4\u001b[0m     \u001b[1;31m# store data as name,phone,email in the contacts file\u001b[0m\u001b[1;33m\u001b[0m\u001b[1;33m\u001b[0m\u001b[1;33m\u001b[0m\u001b[0m\n\u001b[0;32m      5\u001b[0m     \u001b[0mfilename\u001b[0m\u001b[1;33m=\u001b[0m\u001b[1;34m'datafiles/contacts.txt'\u001b[0m\u001b[1;33m\u001b[0m\u001b[1;33m\u001b[0m\u001b[0m\n",
      "\u001b[1;31mImportError\u001b[0m: cannot import name 'validator' from 'Packages' (unknown location)"
     ]
    }
   ],
   "source": [
    "# add contacts practice\n",
    "from Packages import validator\n",
    "def addcontact(name,phone,email):\n",
    "    # store data as name,phone,email in the contacts file\n",
    "    filename='datafiles/contacts.txt'\n",
    "    if not checkcontactexists(name):\n",
    "        if pnv(phone) and ev(email):\n",
    "            with open(filename, 'a') as f:\n",
    "                line=name + ',' +str(phone) + ',' + email + '\\n'\n",
    "                f.write(line)\n",
    "    print(name,'added to contacts')\n",
    "    return\n",
    "addcontact(\"bhanu\",7013229479,\"bhanuchandarreddy07@gmail.com\")"
   ]
  },
  {
   "cell_type": "code",
   "execution_count": 12,
   "metadata": {},
   "outputs": [
    {
     "name": "stdout",
     "output_type": "stream",
     "text": [
      "Enter how many student marks u want to generate 10\n"
     ]
    },
    {
     "ename": "ValueError",
     "evalue": "invalid literal for int() with base 10: ''",
     "output_type": "error",
     "traceback": [
      "\u001b[1;31m---------------------------------------------------------------------------\u001b[0m",
      "\u001b[1;31mValueError\u001b[0m                                Traceback (most recent call last)",
      "\u001b[1;32m<ipython-input-12-07ad604cd124>\u001b[0m in \u001b[0;36m<module>\u001b[1;34m\u001b[0m\n\u001b[0;32m     62\u001b[0m     \u001b[0mmarks\u001b[0m\u001b[1;33m=\u001b[0m\u001b[1;33m[\u001b[0m\u001b[1;33m]\u001b[0m\u001b[1;33m\u001b[0m\u001b[1;33m\u001b[0m\u001b[0m\n\u001b[0;32m     63\u001b[0m     \u001b[1;32mfor\u001b[0m \u001b[0mi\u001b[0m \u001b[1;32min\u001b[0m \u001b[0mrange\u001b[0m\u001b[1;33m(\u001b[0m\u001b[1;36m0\u001b[0m\u001b[1;33m,\u001b[0m\u001b[0mlen\u001b[0m\u001b[1;33m(\u001b[0m\u001b[0mm\u001b[0m\u001b[1;33m)\u001b[0m\u001b[1;33m,\u001b[0m\u001b[1;36m1\u001b[0m\u001b[1;33m)\u001b[0m\u001b[1;33m:\u001b[0m\u001b[1;33m\u001b[0m\u001b[1;33m\u001b[0m\u001b[0m\n\u001b[1;32m---> 64\u001b[1;33m         \u001b[0mmarks\u001b[0m\u001b[1;33m=\u001b[0m\u001b[0mmarks\u001b[0m\u001b[1;33m+\u001b[0m\u001b[1;33m[\u001b[0m\u001b[0mint\u001b[0m\u001b[1;33m(\u001b[0m\u001b[0mm\u001b[0m\u001b[1;33m[\u001b[0m\u001b[0mi\u001b[0m\u001b[1;33m]\u001b[0m\u001b[1;33m)\u001b[0m\u001b[1;33m]\u001b[0m\u001b[1;33m\u001b[0m\u001b[1;33m\u001b[0m\u001b[0m\n\u001b[0m\u001b[0;32m     65\u001b[0m \u001b[0mc\u001b[0m\u001b[1;33m=\u001b[0m\u001b[1;36m1\u001b[0m\u001b[1;33m\u001b[0m\u001b[1;33m\u001b[0m\u001b[0m\n\u001b[0;32m     66\u001b[0m \u001b[1;32mwhile\u001b[0m \u001b[0mc\u001b[0m\u001b[1;33m==\u001b[0m\u001b[1;36m1\u001b[0m\u001b[1;33m:\u001b[0m\u001b[1;33m\u001b[0m\u001b[1;33m\u001b[0m\u001b[0m\n",
      "\u001b[1;31mValueError\u001b[0m: invalid literal for int() with base 10: ''"
     ]
    }
   ],
   "source": [
    "from random import randint\n",
    "def generatemarks(n,lb,ub):\n",
    "    for i in range(0,n,1):\n",
    "        r=randint(lb,ub)\n",
    "        f.write(r.__str__()+\" \")\n",
    "def average_percentage(marks):\n",
    "    count=0\n",
    "    for i in range(0,len(marks),1):\n",
    "        count+=marks[i]\n",
    "    print(\"Average percentage is \",(count//len(marks)))\n",
    "\n",
    "def passed_percentage(filename,marks):\n",
    "    count=0\n",
    "    Passmarks=int(input(\"Enter pass marks  \"))\n",
    "    for i in range(0,len(marks),1):\n",
    "        if marks[i]>=Passmarks:\n",
    "            count+=1\n",
    "    print(\"Pass percentage is \",int((count/n)*100),\"%\")\n",
    "    \n",
    "def failed_percentage(filename,marks):\n",
    "    count=0\n",
    "    Passmarks=int(input(\"Enter pass marks  \"))\n",
    "    for i in range(0,len(marks),1):\n",
    "        if marks[i]<Passmarks:\n",
    "            count+=1\n",
    "    print(\"fail percentage is \",int((count/n)*100),\"%\")\n",
    "\n",
    "        \n",
    "def distinction(filename,marks):\n",
    "    count=0\n",
    "    dist=int(input(\"Enter distinction marks lower bound  \"))\n",
    "    for i in range(0,len(marks),1):\n",
    "        if marks[i]>=dist:\n",
    "            count+=1\n",
    "    print(\"distinction percentage is \",int((count/n)*100),\"%\")\n",
    "    \n",
    "def high_mark(marks):\n",
    "    high=max(marks)\n",
    "    count=0\n",
    "    for i in range(0,len(marks),1):\n",
    "        if marks[i]==high:\n",
    "            count+=1\n",
    "    print(\"Highest marks is \",high,\" number of persons got high\",count)\n",
    "def low_mark(marks):\n",
    "    m=min (marks)\n",
    "    count=0\n",
    "    for i in range(0,len(marks),1):\n",
    "        if marks[i]==m:\n",
    "            count+=1\n",
    "    print(\"Lowest marks is \",m,\" number of persons got low marks\",count)\n",
    "    \n",
    "\n",
    "filename=\"marks.txt\"\n",
    "n=int(input(\"Enter how many student marks u want to generate \"))\n",
    "\n",
    "with open(filename,'r+') as f:\n",
    "    generatemarks(n,0,100)\n",
    "\n",
    "with open(filename,'r') as f:\n",
    "    data=f.read()\n",
    "    m=data.split(\" \")\n",
    "    marks=[]\n",
    "    for i in range(0,len(m),1):\n",
    "        marks=marks+[int(m[i])]\n",
    "c=1\n",
    "while c==1:\n",
    "    print(\"\\n1.List of marks\\n2.Pass percentage\\n3.Failed percentage\\n4.Distinction percentage\\n5.High marks\\n6.Low mark\\n7.Average percentage\\n\")\n",
    "    value=int(input())\n",
    "    if value==1:\n",
    "        for i in range(0,len(marks),1):\n",
    "            print(marks[i],end=\" \")\n",
    "        \n",
    "    elif value==2:\n",
    "        passed_percentage(filename,marks)\n",
    "    elif value==3:\n",
    "        failed_percentage(filename,marks)\n",
    "    elif value==4:\n",
    "        distinction(filename,marks)\n",
    "    elif value==5:\n",
    "        high_mark(marks)\n",
    "    elif value==6:\n",
    "        low_mark(marks)\n",
    "    elif value==7:\n",
    "        average_percentage(marks)\n",
    "    else:\n",
    "        print(\"\\nWrong input.Please enter correct input\\n\")\n",
    "\n",
    "    print(\"\\nEnter 1 to continue\\nEnter 0 to exit\\n\")\n",
    "    c=int(input())\n"
   ]
  },
  {
   "cell_type": "code",
   "execution_count": 13,
   "metadata": {},
   "outputs": [],
   "source": [
    "# Largest nuber in a list\n",
    "# second largest number in a list\n",
    "# kth Largest number in a list\n",
    "\n",
    "# Element with highest frequency\n",
    "# Second highest frequency\n",
    "# Kth Highest frequency\n",
    "\n",
    "# {a:4,g:9,i:6,p:213.c:6}\n",
    "# {4,6,6,9,213}\n",
    "# {213,10,9,6,6,4}\n",
    "# {a,c,g,i,p}\n",
    "# k=5\n",
    "# li=[]"
   ]
  },
  {
   "cell_type": "code",
   "execution_count": 21,
   "metadata": {},
   "outputs": [
    {
     "data": {
      "text/plain": [
       "2"
      ]
     },
     "execution_count": 21,
     "metadata": {},
     "output_type": "execute_result"
    }
   ],
   "source": [
    "# second largest number in a list\n",
    "\n",
    "def secondlargest(li):\n",
    "    # Convert the list into a unique list\n",
    "    # O(n)\n",
    "    unique=[]\n",
    "    for n in li:\n",
    "        if n not in unique:\n",
    "            unique.append(n)\n",
    "    unique=sorted(unique,reverse=True)\n",
    "    return unique[3]\n",
    "secondlargest([1,2,356,2,9875,345])"
   ]
  },
  {
   "cell_type": "code",
   "execution_count": 31,
   "metadata": {},
   "outputs": [
    {
     "data": {
      "text/plain": [
       "9"
      ]
     },
     "execution_count": 31,
     "metadata": {},
     "output_type": "execute_result"
    }
   ],
   "source": [
    "# ksmallest\n",
    "\n",
    "def ksmallest (li,k):\n",
    "    unique=[]\n",
    "    for i in li:\n",
    "        if i not in unique:\n",
    "            unique.append(i)\n",
    "#sort the unique list in ascending order\n",
    "    unique=sorted(unique)\n",
    "# Check if length of unique list is greaterthan of k\n",
    "    if len(unique)>=k:\n",
    "        return unique[k-1]\n",
    "    return -1\n",
    "ksmallest([3,4,9],3)"
   ]
  },
  {
   "cell_type": "code",
   "execution_count": 53,
   "metadata": {},
   "outputs": [
    {
     "data": {
      "text/plain": [
       "1"
      ]
     },
     "execution_count": 53,
     "metadata": {},
     "output_type": "execute_result"
    }
   ],
   "source": [
    "# function to identify the element with highest frequency\n",
    "# if many elements have the highest frequency,return the smallest\n",
    "# highest frequency ([1,2,3,9.8.7.3.4.2.1]) -> 1\n",
    "def highestfrequencyelement(li):\n",
    "    unique={}\n",
    "    for i in li:\n",
    "        if i in unique:\n",
    "            unique[i] += 1\n",
    "        else:\n",
    "            unique[i] = 1\n",
    "# getting all frequencies into a \n",
    "    freq=unique.values()\n",
    "    maxfreq=max(freq)\n",
    "    maxfreqE=[]\n",
    "# identify the smallest number with highest frequency\n",
    "    for item in unique.items():\n",
    "        if item[1]==maxfreq:\n",
    "            maxfreqE.append(item[0])\n",
    "#select the Minimum from the keys with maximum frequency\n",
    "    maxfreqE=sorted(maxfreqE,reverse=True)\n",
    "    return maxfreqE[3-1]\n",
    "highestfrequencyelement([1,2,3,9,8,7,3,4,2,1])"
   ]
  },
  {
   "cell_type": "code",
   "execution_count": 58,
   "metadata": {},
   "outputs": [
    {
     "data": {
      "text/plain": [
       "1"
      ]
     },
     "execution_count": 58,
     "metadata": {},
     "output_type": "execute_result"
    }
   ],
   "source": [
    "def highestfrequencyelement(li):\n",
    "    unique={}\n",
    "    for i in li:\n",
    "        if i in unique:\n",
    "            unique[i] += 1\n",
    "        else:\n",
    "            unique[i] = 1\n",
    "# unique={1:2,2:2,3:2,9:1,8:1,7:1}\n",
    "    maxfreq=max(unique.values())\n",
    "# Extract all keys with maxfreq in a list\n",
    "    maxfreqkeys=[]\n",
    "    for item in unique.items():\n",
    "    # item -> (key,value)\n",
    "    #item ->keys\n",
    "    # item[1] -> values\n",
    "        if item[1] == maxfreq:\n",
    "            maxfreqkeys.append(item[0])\n",
    "    return min(maxfreqkeys)\n",
    "highestfrequencyelement([1,2,3,9,8,7,3,4,2,1])"
   ]
  },
  {
   "cell_type": "code",
   "execution_count": null,
   "metadata": {},
   "outputs": [],
   "source": [
    "# function to identify second highest freqency element.\n",
    "# if there are many such elements return the smallest.\n",
    "# [1,2,3,2,1,4,4,9]\n",
    "\n",
    "def maxfrequency(li):\n",
    "    unique={}\n",
    "    "
   ]
  }
 ],
 "metadata": {
  "kernelspec": {
   "display_name": "Python 3",
   "language": "python",
   "name": "python3"
  },
  "language_info": {
   "codemirror_mode": {
    "name": "ipython",
    "version": 3
   },
   "file_extension": ".py",
   "mimetype": "text/x-python",
   "name": "python",
   "nbconvert_exporter": "python",
   "pygments_lexer": "ipython3",
   "version": "3.7.3"
  }
 },
 "nbformat": 4,
 "nbformat_minor": 2
}
