{
 "cells": [
  {
   "cell_type": "code",
   "execution_count": 2,
   "metadata": {},
   "outputs": [
    {
     "name": "stdout",
     "output_type": "stream",
     "text": [
      "kirti\n"
     ]
    }
   ],
   "source": [
    "a=\"kirti\"\n",
    "print(a)"
   ]
  },
  {
   "cell_type": "markdown",
   "metadata": {},
   "source": [
    "# Goki recently had a breakup, so he wants to have some more friends in his life. Goki has N people who he can be friends with, so he decides to choose among them according to their skills set Yi(1<=i<=n). He wants atleast X skills in his friends. Help Goki find his friends."
   ]
  },
  {
   "cell_type": "code",
   "execution_count": 3,
   "metadata": {},
   "outputs": [
    {
     "ename": "NameError",
     "evalue": "name 'n' is not defined",
     "output_type": "error",
     "traceback": [
      "\u001b[1;31m---------------------------------------------------------------------------\u001b[0m",
      "\u001b[1;31mNameError\u001b[0m                                 Traceback (most recent call last)",
      "\u001b[1;32m<ipython-input-3-dfc6df06f473>\u001b[0m in \u001b[0;36m<module>\u001b[1;34m\u001b[0m\n\u001b[0;32m      5\u001b[0m         \u001b[1;32melse\u001b[0m\u001b[1;33m:\u001b[0m\u001b[1;33m\u001b[0m\u001b[1;33m\u001b[0m\u001b[0m\n\u001b[0;32m      6\u001b[0m             \u001b[0mprint\u001b[0m\u001b[1;33m(\u001b[0m\u001b[1;34m\"break up\"\u001b[0m\u001b[1;33m)\u001b[0m\u001b[1;33m\u001b[0m\u001b[1;33m\u001b[0m\u001b[0m\n\u001b[1;32m----> 7\u001b[1;33m \u001b[0mgoki\u001b[0m\u001b[1;33m(\u001b[0m\u001b[0mn\u001b[0m\u001b[1;33m)\u001b[0m\u001b[1;33m\u001b[0m\u001b[1;33m\u001b[0m\u001b[0m\n\u001b[0m",
      "\u001b[1;31mNameError\u001b[0m: name 'n' is not defined"
     ]
    }
   ],
   "source": [
    "def goki(n):\n",
    "    for i in range(0,n):\n",
    "        if(0<n):\n",
    "            print(\"goki love\")\n",
    "        else:\n",
    "            print(\"break up\")\n",
    "goki(n)"
   ]
  },
  {
   "cell_type": "code",
   "execution_count": 1,
   "metadata": {},
   "outputs": [
    {
     "name": "stdout",
     "output_type": "stream",
     "text": [
      "5\n",
      "100\n",
      "110\n",
      "YES\n",
      "130\n",
      "YES\n",
      "90\n",
      "NO\n",
      "100\n",
      "YES\n",
      "45\n",
      "NO\n"
     ]
    }
   ],
   "source": [
    "n=int(input())\n",
    "s=int(input())\n",
    "def skill(s,d):\n",
    "    if(d>=s):\n",
    "        print(\"YES\")\n",
    "    else:\n",
    "        print(\"NO\")\n",
    "for i in range(n):\n",
    "    d=int(input())\n",
    "    skill(s,d)"
   ]
  },
  {
   "cell_type": "markdown",
   "metadata": {},
   "source": [
    "# Roy wants to change his profile picture on Facebook. Now Facebook has some restriction over the dimension of picture that we can upload.\n",
    "Minimum dimension of the picture can be L x L, where L is the length of the side of square.Now Roy has N photos of various dimensions.Dimension of a photo is denoted as W x H where W - width of the photo and H - Height of the photo When any photo is uploaded following events may occur:\n",
    "[1] If any of the width or height is less than L, user is prompted to upload another one. Print \"UPLOAD ANOTHER\" in this case. [2] If width and height, both are large enough and \n",
    "(a) if the photo is already square then it is accepted. Print \"ACCEPTED\" in this case.\n",
    "(b) else user is prompted to crop it. Print \"CROP IT\" in this case.\n",
    "(quotes are only for clarification)Given L, N, W and H as input, print appropriate text as output."
   ]
  },
  {
   "cell_type": "code",
   "execution_count": 2,
   "metadata": {},
   "outputs": [
    {
     "name": "stdout",
     "output_type": "stream",
     "text": [
      "180\n",
      "3\n",
      "640 480\n",
      "crop it\n",
      "120 300\n",
      "upload\n",
      "180 180\n",
      "accepted\n"
     ]
    }
   ],
   "source": [
    "l=int(input())\n",
    "n=int(input())\n",
    "def profile(l):\n",
    "    s=input()\n",
    "    s=s.split()\n",
    "    h=int(s[0])\n",
    "    w=int(s[1])\n",
    "    if(w<l or h<l):\n",
    "        print(\"upload\")\n",
    "    elif(w>=l and h>=l):\n",
    "        if(w==h):\n",
    "            print(\"accepted\")\n",
    "        else:\n",
    "            print(\"crop it\")\n",
    "for i in range(0,n):\n",
    "    profile(l)"
   ]
  },
  {
   "cell_type": "markdown",
   "metadata": {},
   "source": [
    "# Find a Product"
   ]
  },
  {
   "cell_type": "markdown",
   "metadata": {},
   "source": [
    "# You have been given an array A of size N consisting of positive integers. You need to find and print the product of all the number in this array Modulo 10^9 + 7"
   ]
  },
  {
   "cell_type": "code",
   "execution_count": 8,
   "metadata": {},
   "outputs": [
    {
     "name": "stdout",
     "output_type": "stream",
     "text": [
      "5\n",
      "1 2 3 4 5\n",
      "120\n"
     ]
    }
   ],
   "source": [
    "b=int(input())\n",
    "h=list(map(int,input().split()))\n",
    "answer=1\n",
    "for i in h:\n",
    "    answer = (answer*i) % (10**9 + 7)\n",
    "print(answer)"
   ]
  },
  {
   "cell_type": "markdown",
   "metadata": {},
   "source": [
    "# Book of potion making"
   ]
  },
  {
   "cell_type": "markdown",
   "metadata": {},
   "source": [
    "# Harry wants to find Voldemort's potion making book but he is confused about how to get it.\n",
    "\n",
    "The book has a special ISBN(International Standard Book Number) which is  unique numeric book identifier only for Voldemort's book printed on it. The ISBN is based upon a 10-digit code. The ISBN is valid if:\n",
    "1xdigit1 + 2xdigit2 + 3xdigit3 + 4xdigit4 + 5xdigit5 + 6xdigit6 + 7xdigit7 + 8xdigit8 + 9xdigit9 + 10xdigit10 is divisible by 11.\n",
    "Help Harry to find the book!"
   ]
  },
  {
   "cell_type": "code",
   "execution_count": 9,
   "metadata": {},
   "outputs": [
    {
     "name": "stdout",
     "output_type": "stream",
     "text": [
      "1401601499\n",
      "Legal ISBN\n"
     ]
    }
   ],
   "source": [
    "n=int(input())\n",
    "z=n\n",
    "c=len(str(z))\n",
    "sum=0\n",
    "if c==10:\n",
    "    i=10\n",
    "    while(i!=0):\n",
    "        sum=sum+i*(n%10)\n",
    "        n=n//10\n",
    "        i=i-1\n",
    "    if sum % 11 == 0:\n",
    "        print(\"Legal ISBN\")\n",
    "    else:\n",
    "        print(\"Illegal ISBN\")\n",
    "else:\n",
    "    print(\"Illegal ISBN\")"
   ]
  },
  {
   "cell_type": "markdown",
   "metadata": {},
   "source": [
    "# Cost of Baloons"
   ]
  },
  {
   "cell_type": "code",
   "execution_count": null,
   "metadata": {},
   "outputs": [],
   "source": []
  }
 ],
 "metadata": {
  "kernelspec": {
   "display_name": "Python 3",
   "language": "python",
   "name": "python3"
  },
  "language_info": {
   "codemirror_mode": {
    "name": "ipython",
    "version": 3
   },
   "file_extension": ".py",
   "mimetype": "text/x-python",
   "name": "python",
   "nbconvert_exporter": "python",
   "pygments_lexer": "ipython3",
   "version": "3.7.3"
  }
 },
 "nbformat": 4,
 "nbformat_minor": 2
}
