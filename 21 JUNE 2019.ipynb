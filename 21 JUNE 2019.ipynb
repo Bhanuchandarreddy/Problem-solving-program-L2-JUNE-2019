{
 "cells": [
  {
   "cell_type": "code",
   "execution_count": 33,
   "metadata": {},
   "outputs": [
    {
     "ename": "ImportError",
     "evalue": "cannot import name 'validator' from 'Packages' (unknown location)",
     "output_type": "error",
     "traceback": [
      "\u001b[1;31m---------------------------------------------------------------------------\u001b[0m",
      "\u001b[1;31mImportError\u001b[0m                               Traceback (most recent call last)",
      "\u001b[1;32m<ipython-input-33-62d78ece5b9c>\u001b[0m in \u001b[0;36m<module>\u001b[1;34m\u001b[0m\n\u001b[0;32m      1\u001b[0m \u001b[1;31m# function to add contact to contacts in text file\u001b[0m\u001b[1;33m\u001b[0m\u001b[1;33m\u001b[0m\u001b[1;33m\u001b[0m\u001b[0m\n\u001b[0;32m      2\u001b[0m \u001b[1;33m\u001b[0m\u001b[0m\n\u001b[1;32m----> 3\u001b[1;33m \u001b[1;32mfrom\u001b[0m \u001b[0mPackages\u001b[0m \u001b[1;32mimport\u001b[0m \u001b[0mvalidator\u001b[0m\u001b[1;33m\u001b[0m\u001b[1;33m\u001b[0m\u001b[0m\n\u001b[0m\u001b[0;32m      4\u001b[0m \u001b[1;32mdef\u001b[0m \u001b[0maddcontact\u001b[0m\u001b[1;33m(\u001b[0m\u001b[0mname\u001b[0m\u001b[1;33m,\u001b[0m\u001b[0mphone\u001b[0m\u001b[1;33m,\u001b[0m\u001b[0memail\u001b[0m\u001b[1;33m)\u001b[0m\u001b[1;33m:\u001b[0m\u001b[1;33m\u001b[0m\u001b[1;33m\u001b[0m\u001b[0m\n\u001b[0;32m      5\u001b[0m     \u001b[1;31m# store data as name,phone,email in the contacts file\u001b[0m\u001b[1;33m\u001b[0m\u001b[1;33m\u001b[0m\u001b[1;33m\u001b[0m\u001b[0m\n",
      "\u001b[1;31mImportError\u001b[0m: cannot import name 'validator' from 'Packages' (unknown location)"
     ]
    }
   ],
   "source": [
    "# function to add contact to contacts in text file\n",
    "\n",
    "from Packages import validator\n",
    "def addcontact(name,phone,email):\n",
    "    # store data as name,phone,email in the contacts file\n",
    "    filename='datafiles/contacts.txt'\n",
    "    if not checkcontactexists(name):\n",
    "        if pnv(phone) and ev(email):\n",
    "            with open(filename, 'a') as f:\n",
    "                line=name + ',' +str(phone) + ',' + email + '\\n'\n",
    "                f.write(line)\n",
    "    print(name,'added to contacts')\n",
    "    return\n",
    "addcontact(\"bhanu\",7013229479,\"bhanuchandarreddy07@gmail.com\")"
   ]
  },
  {
   "cell_type": "code",
   "execution_count": 32,
   "metadata": {},
   "outputs": [
    {
     "name": "stdout",
     "output_type": "stream",
     "text": [
      "False\n"
     ]
    }
   ],
   "source": [
    "# function to check if contact already exists\n",
    "import re\n",
    "def checkcontactexists(name):\n",
    "    filename='datafiles/contacts.txt'\n",
    "    with open(filename,'r') as f:\n",
    "        filedata = f.read()\n",
    "        pattern=name+','\n",
    "    return re.search(name,filedata)\n",
    "\n",
    "if checkcontactexists(\"bhanu\"):\n",
    "    print(True)\n",
    "else:\n",
    "    print(False)"
   ]
  },
  {
   "cell_type": "code",
   "execution_count": 115,
   "metadata": {},
   "outputs": [
    {
     "data": {
      "text/plain": [
       "''"
      ]
     },
     "execution_count": 115,
     "metadata": {},
     "output_type": "execute_result"
    }
   ],
   "source": [
    "filename='datafiles/contacts.txt'\n",
    "def csvtolist(filename):\n",
    "    li=[]\n",
    "    with open(filename,'r') as f:\n",
    "        for line in f:\n",
    "            li.append(line.split(','))\n",
    "    return li\n",
    "def listtofile(li):\n",
    "    s=''\n",
    "    for i in li:\n",
    "        s.join(i)\n",
    "    return s\n",
    "li=csvtolist(filename)\n",
    "listtofile(li)"
   ]
  },
  {
   "cell_type": "markdown",
   "metadata": {},
   "source": [
    "# addcontacts"
   ]
  },
  {
   "cell_type": "code",
   "execution_count": 43,
   "metadata": {},
   "outputs": [],
   "source": [
    "fname='Datafiles/mycontacts.txt'\n",
    "f=open(fname,'w')\n",
    "f.write(\"bhan,7013229479,bhanuchandarreddy@gmail.com\")\n",
    "f.close()"
   ]
  },
  {
   "cell_type": "code",
   "execution_count": 44,
   "metadata": {},
   "outputs": [
    {
     "name": "stdout",
     "output_type": "stream",
     "text": [
      "bhan,7013229479,bhanuchandarreddy@gmail.com\n"
     ]
    }
   ],
   "source": [
    "with open(fname,'r') as f:\n",
    "    print(f.read())"
   ]
  },
  {
   "cell_type": "code",
   "execution_count": 50,
   "metadata": {},
   "outputs": [],
   "source": [
    "fname='Datafiles/mycontacts.txt'\n",
    "f=open(fname,'a')\n",
    "f.write(\"\\nggggg,7013229479,bhanuchandarreddy@gmail.com\")\n",
    "f.close()"
   ]
  },
  {
   "cell_type": "code",
   "execution_count": 51,
   "metadata": {},
   "outputs": [
    {
     "name": "stdout",
     "output_type": "stream",
     "text": [
      "['bhan,7013229479,bhanuchandarreddy@gmail.combhan,7013229479,bhanuchandarreddy@gmail.com\\n', 'bhan,7013229479,bhanuchandarreddy@gmail.com\\n', 'ggggg,7013229479,bhanuchandarreddy@gmail.com']\n"
     ]
    }
   ],
   "source": [
    "with open(fname,'r') as f:\n",
    "    print(f.readlines())"
   ]
  },
  {
   "cell_type": "code",
   "execution_count": 58,
   "metadata": {},
   "outputs": [
    {
     "name": "stdout",
     "output_type": "stream",
     "text": [
      "bhan,7013229479,bhanuchandarreddy@gmail.combhan,7013229479,bhanuchandarreddy@gmail.com\n",
      "bhan,7013229479,bhanuchandarreddy@gmail.com\n",
      "ggggg,7013229479,bhanuchandarreddy@gmail.com"
     ]
    }
   ],
   "source": [
    "def listcontacts(fname):\n",
    "    with open(fname,'r') as f:\n",
    "        for line in f.readlines():\n",
    "            print(line,end='')\n",
    "listcontacts(fname)"
   ]
  },
  {
   "cell_type": "code",
   "execution_count": 59,
   "metadata": {},
   "outputs": [
    {
     "name": "stdout",
     "output_type": "stream",
     "text": [
      "line 1\n",
      "line 2\n",
      "line 3"
     ]
    }
   ],
   "source": [
    "filename='datafiles/data.txt'\n",
    "listcontacts(filename)"
   ]
  },
  {
   "cell_type": "code",
   "execution_count": 66,
   "metadata": {},
   "outputs": [
    {
     "name": "stdout",
     "output_type": "stream",
     "text": [
      "['bhan', '7013229479', 'bhanuchandarreddy@gmail.com\\n']\n",
      "['bhan', '7013229479', 'bhanuchandarreddy@gmail.com\\n']\n",
      "['ggggg', '7013229479', 'bhanuchandarreddy@gmail.com']\n"
     ]
    }
   ],
   "source": [
    "with open(fname,'r') as f:\n",
    "    for line in f:\n",
    "        print(line.split(sep=','))\n",
    "    "
   ]
  },
  {
   "cell_type": "code",
   "execution_count": 70,
   "metadata": {},
   "outputs": [
    {
     "data": {
      "text/plain": [
       "[['bhan', '7013229479', 'bhanuchandarreddy@gmail.com\\n'],\n",
       " ['bhan', '7013229479', 'bhanuchandarreddy@gmail.com\\n'],\n",
       " ['ggggg', '7013229479', 'bhanuchandarreddy@gmail.com']]"
      ]
     },
     "execution_count": 70,
     "metadata": {},
     "output_type": "execute_result"
    }
   ],
   "source": [
    "def listtocsv(fname):\n",
    "    with open(fname,'r') as f:\n",
    "        f1=[]\n",
    "        for line in f:\n",
    "            f1.append(line.split(sep=','))\n",
    "    return f1\n",
    "listtocsv(fname)"
   ]
  },
  {
   "cell_type": "code",
   "execution_count": 84,
   "metadata": {},
   "outputs": [
    {
     "name": "stdout",
     "output_type": "stream",
     "text": [
      "bhan,7013229479,bhanuchandarreddy@gmail.com\n",
      "bhan,7013229479,bhanuchandarreddy@gmail.com\n"
     ]
    }
   ],
   "source": [
    "def search(fname,name):\n",
    "    f1=listtocsv(fname)\n",
    "    flag=0\n",
    "    for line in f1:\n",
    "        if line[0]==name:\n",
    "            flag=1\n",
    "            print(','.join(line),end='')\n",
    "        if flag==0:\n",
    "            print('contactnotfound')\n",
    "search(fname,'bhan')"
   ]
  },
  {
   "cell_type": "code",
   "execution_count": 96,
   "metadata": {},
   "outputs": [
    {
     "name": "stdout",
     "output_type": "stream",
     "text": [
      "removed\n",
      "removed\n"
     ]
    }
   ],
   "source": [
    "###############\n",
    "def search(fname,name):\n",
    "    def remove(fname,name):\n",
    "        f1=listtocsv(fname)\n",
    "        count=0\n",
    "        for line in f1:\n",
    "            if line[0]==name:\n",
    "                count=1\n",
    "                f1.pop(name)\n",
    "            if count==0:\n",
    "                print('no')\n",
    "search(fname,'bhan')\n",
    "remove(fname,'bhan')\n",
    "    "
   ]
  },
  {
   "cell_type": "code",
   "execution_count": 152,
   "metadata": {},
   "outputs": [
    {
     "data": {
      "text/plain": [
       "'Datafiles/mycontacts.txt'"
      ]
     },
     "execution_count": 152,
     "metadata": {},
     "output_type": "execute_result"
    }
   ],
   "source": [
    "fname"
   ]
  },
  {
   "cell_type": "code",
   "execution_count": 160,
   "metadata": {},
   "outputs": [
    {
     "data": {
      "text/plain": [
       "1"
      ]
     },
     "execution_count": 160,
     "metadata": {},
     "output_type": "execute_result"
    }
   ],
   "source": [
    "def searchwithbhan(fname,name):\n",
    "    f1=csvtolist(fname)\n",
    "    count=0\n",
    "    for i in range(len(f1)):\n",
    "        if name==f1[i][0]:\n",
    "            count=1\n",
    "            return i\n",
    "    if count==0:\n",
    "        return -1\n",
    "searchwithbhan(fname,'shiva')\n",
    "        "
   ]
  },
  {
   "cell_type": "code",
   "execution_count": 161,
   "metadata": {},
   "outputs": [
    {
     "data": {
      "text/plain": [
       "[['asdfghbhan', '3456789', 'sdfghjkh@gmail.com\\n'],\n",
       " ['shiva', '12345667789', 'jkdk@gmail.com\\n'],\n",
       " ['bhanu', '234567', 'sdfgh@gmail.com']]"
      ]
     },
     "execution_count": 161,
     "metadata": {},
     "output_type": "execute_result"
    }
   ],
   "source": [
    "li=csvtolist(fname)\n",
    "li"
   ]
  },
  {
   "cell_type": "code",
   "execution_count": 162,
   "metadata": {},
   "outputs": [
    {
     "data": {
      "text/plain": [
       "'asdfghbhan,3456789,sdfghjkh@gmail.com\\nshiva,12345667789,jkdk@gmail.com\\nbhanu,234567,sdfgh@gmail.com'"
      ]
     },
     "execution_count": 162,
     "metadata": {},
     "output_type": "execute_result"
    }
   ],
   "source": [
    "def listtofile(li):\n",
    "    s=''\n",
    "    for i in li:\n",
    "        s+=','.join(i)\n",
    "    return s\n",
    "listtofile(li)"
   ]
  },
  {
   "cell_type": "code",
   "execution_count": 163,
   "metadata": {},
   "outputs": [
    {
     "name": "stdout",
     "output_type": "stream",
     "text": [
      "[['asdfghbhan', '3456789', 'sdfghjkh@gmail.com\\n'], ['shiva', '12345667789', 'jkdk@gmail.com\\n'], ['bhanu', '234567', 'sdfgh@gmail.com']]\n"
     ]
    }
   ],
   "source": [
    "def contactdelete(fname,name):\n",
    "    i=searchwithbhan(fname,name)\n",
    "    if i!=-1:\n",
    "        f1=csvtolist(fname)\n",
    "        print(f1)\n",
    "        f1.pop(i)\n",
    "        s=listtofile(f1)\n",
    "        with open(fname,'w') as f:\n",
    "            f.write(s)\n",
    "    else:\n",
    "        print(\"contact not found to remove\")\n",
    "\n",
    "contactdelete(fname,'bhanu')"
   ]
  },
  {
   "cell_type": "code",
   "execution_count": 164,
   "metadata": {},
   "outputs": [
    {
     "data": {
      "text/plain": [
       "'Datafiles/mycontacts.txt'"
      ]
     },
     "execution_count": 164,
     "metadata": {},
     "output_type": "execute_result"
    }
   ],
   "source": [
    "fname"
   ]
  },
  {
   "cell_type": "code",
   "execution_count": null,
   "metadata": {},
   "outputs": [],
   "source": []
  }
 ],
 "metadata": {
  "kernelspec": {
   "display_name": "Python 3",
   "language": "python",
   "name": "python3"
  },
  "language_info": {
   "codemirror_mode": {
    "name": "ipython",
    "version": 3
   },
   "file_extension": ".py",
   "mimetype": "text/x-python",
   "name": "python",
   "nbconvert_exporter": "python",
   "pygments_lexer": "ipython3",
   "version": "3.7.3"
  }
 },
 "nbformat": 4,
 "nbformat_minor": 2
}
